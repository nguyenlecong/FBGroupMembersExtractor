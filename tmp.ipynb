{
 "cells": [
  {
   "cell_type": "code",
   "execution_count": 14,
   "metadata": {},
   "outputs": [],
   "source": [
    "import pandas as pd\n",
    "\n",
    "from src.utils import read_csv\n",
    "from src.extractor import Extractor\n",
    "\n",
    "from selenium import webdriver\n",
    "from selenium.webdriver.common.keys import Keys\n",
    "\n",
    "from src.utils import *"
   ]
  },
  {
   "cell_type": "code",
   "execution_count": 15,
   "metadata": {},
   "outputs": [],
   "source": [
    "config = load_config('config/account_config.yaml')\n",
    "account_id = 1\n",
    "facebook_account = config[account_id]"
   ]
  },
  {
   "cell_type": "code",
   "execution_count": 16,
   "metadata": {},
   "outputs": [],
   "source": [
    "def login_facebook(facebook_account):\n",
    "    chrome_options = webdriver.ChromeOptions()\n",
    "    prefs = {\"profile.default_content_setting_values.notifications\": 2}\n",
    "    chrome_options.add_experimental_option(\"prefs\", prefs)\n",
    "    # chrome_options.add_argument('--headless')  # Run in background\n",
    "    browser = webdriver.Chrome(\n",
    "        executable_path='./asset/chromedriver.exe', chrome_options=chrome_options)\n",
    "\n",
    "    browser.get('https://www.facebook.com/')\n",
    "    sleeping()\n",
    "\n",
    "    txtUser = browser.find_element_by_id('email')\n",
    "    txtUser.send_keys(facebook_account['username'])\n",
    "    sleeping()\n",
    "\n",
    "    txtPwd = browser.find_element_by_id('pass')\n",
    "    txtPwd.send_keys(facebook_account['password'])\n",
    "    sleeping()\n",
    "\n",
    "    txtPwd.send_keys(Keys.ENTER)\n",
    "    sleeping()\n",
    "\n",
    "    return browser"
   ]
  },
  {
   "cell_type": "code",
   "execution_count": 17,
   "metadata": {},
   "outputs": [
    {
     "name": "stderr",
     "output_type": "stream",
     "text": [
      "C:\\Users\\nguyen\\AppData\\Local\\Temp\\ipykernel_33864\\2309377508.py:6: DeprecationWarning: use options instead of chrome_options\n",
      "  browser = webdriver.Chrome(\n"
     ]
    }
   ],
   "source": [
    "browser = login_facebook(facebook_account)"
   ]
  },
  {
   "cell_type": "code",
   "execution_count": 20,
   "metadata": {},
   "outputs": [],
   "source": [
    "profile_link = 'https://www.facebook.com/dinhkhuongg'\n",
    "browser.get(profile_link)"
   ]
  },
  {
   "cell_type": "code",
   "execution_count": 21,
   "metadata": {},
   "outputs": [
    {
     "data": {
      "text/plain": [
       "''"
      ]
     },
     "execution_count": 21,
     "metadata": {},
     "output_type": "execute_result"
    }
   ],
   "source": [
    "intro = browser.find_element_by_css_selector('div.xieb3on > div:nth-child(1) > div > div')\n",
    "intro.text "
   ]
  },
  {
   "cell_type": "code",
   "execution_count": 31,
   "metadata": {},
   "outputs": [],
   "source": [
    "text = [\n",
    "\"📞 039 789 2603\",\n",
    "\"📞LH Công việc: 0969.979.377\",\n",
    "\"FB CHÍNH CHỐT ĐƠN - KHO MỞ CỬA⏰ : 7H -5H30 ( khách sỉ lẻ lưu ý giùm em nha). ☎️ 0355070791\",\n",
    "\"🎯WhatsApp: +84912997736\",\n",
    "\"Contact: 0588.563.472\",\n",
    "\"Trao đổi Đồ nghề, Dao bếp, Bonsai, Dụng cụ Nhật Bãi. Chợ Nhật Bãi 0969.454.789\",\n",
    "\"SĐT- ZALO: 0865354626😍\",\n",
    "\"For work: 03363 69 603\",\n",
    "\"hải trên mạng xã hội 🤎. 𝗖𝗼𝗻𝘁𝗮𝗰𝘁 ☞ Call | Zalo : 09898.04998; 093.173.0123\",\n",
    "\"MB Bank 0353753863\",\n",
    "\"Hotline : 0793.11.3456\",\n",
    "\"CALLL/ZALO: 0977344321\",\n",
    "\"MB BANK: 8619991992\",\n",
    "\"ZALO: 0989271832\",\n",
    "\"Tổng sỉ dược mỹ phẩm. Làm việc uy tín. Hỗ trợ tối đa☎️Zalo:0382.280.188🍀🍀🍀\",\n",
    "\"0764.993.555\",\n",
    "\"☎️ 0964 4111 03 - 0964 5111 03\",\n",
    "\"Chuyên dòng trà, detox, cà phê chuẩn ISO, FDA, giấy tờ đầy đủ. Cung cấp sll chạy ADS. 098 6980543\",\n",
    "]"
   ]
  },
  {
   "cell_type": "code",
   "execution_count": 34,
   "metadata": {},
   "outputs": [],
   "source": [
    "gt = [\n",
    "    \"0397892603\",\n",
    "    \"0969979377\",\n",
    "    \"0355070791\",\n",
    "    \"0912997736\",\n",
    "    \"0588563472\",\n",
    "    \"0969454789\",\n",
    "    \"0865354626\",\n",
    "    \"0336369603\",\n",
    "    \"0989804998, 0931730123\",\n",
    "    \"0353753863\",\n",
    "    \"0793113456\",\n",
    "    \"0977344321\",\n",
    "    \"0989271832\",\n",
    "    \"0382280188\",\n",
    "    \"0764993555\",\n",
    "    \"0964411103, 0964511103\",\n",
    "    \"0986980543\",\n",
    "]"
   ]
  },
  {
   "cell_type": "code",
   "execution_count": 11,
   "metadata": {},
   "outputs": [],
   "source": [
    "import re"
   ]
  },
  {
   "cell_type": "code",
   "execution_count": 71,
   "metadata": {},
   "outputs": [
    {
     "name": "stdout",
     "output_type": "stream",
     "text": [
      "['0397892603', '0969979377', '0355070791', '0912997736', '0588563472', '0969454789', '0865354626', '0336369603', '0989804998', '0931730123', '0353753863', '0793113456', '0977344321', '0989271832', '0382280188', '0764993555', '0964411103', '0964511103', '0986980543']\n"
     ]
    }
   ],
   "source": [
    "# Regex pattern to match phone numbers\n",
    "pattern = re.compile(r'(?:\\+?84|0)(?:\\d[\\.\\s]*){9,10}')\n",
    "\n",
    "# Function to clean and normalize phone numbers\n",
    "def extract_phone_numbers(text):\n",
    "    phone_numbers = []\n",
    "    for line in text:\n",
    "        matches = pattern.findall(line)\n",
    "        for match in matches:\n",
    "            # Remove all non-digit characters and convert international format to local\n",
    "            cleaned_number = re.sub(r'\\D', '', match)  # Remove non-digits\n",
    "            if cleaned_number.startswith(\"84\"):\n",
    "                cleaned_number = \"0\" + cleaned_number[2:]  # Convert +84 or 84 to 0\n",
    "            phone_numbers.append(cleaned_number)\n",
    "    return phone_numbers\n",
    "\n",
    "# Extract and normalize phone numbers\n",
    "phone_numbers = extract_phone_numbers(text)\n",
    "\n",
    "print(phone_numbers)"
   ]
  },
  {
   "cell_type": "code",
   "execution_count": 72,
   "metadata": {},
   "outputs": [
    {
     "data": {
      "text/plain": [
       "(17, 19)"
      ]
     },
     "execution_count": 72,
     "metadata": {},
     "output_type": "execute_result"
    }
   ],
   "source": [
    "len(gt), len(phone_numbers)"
   ]
  },
  {
   "cell_type": "code",
   "execution_count": 79,
   "metadata": {},
   "outputs": [],
   "source": [
    "pattern = re.compile(r'(?:\\+?84|0)(?:\\d[\\.\\s]*){9,10}')\n",
    "def find_phone_number(text):\n",
    "        phone_numbers = []\n",
    "        matches = pattern.findall(text)\n",
    "        for match in matches:\n",
    "            cleaned_number = re.sub(r'\\D', '', match)\n",
    "            if cleaned_number.startswith(\"84\"):\n",
    "                cleaned_number = \"0\" + cleaned_number[2:]\n",
    "            phone_numbers.append(cleaned_number)\n",
    "        return ', '.join(phone_numbers)"
   ]
  },
  {
   "cell_type": "code",
   "execution_count": 93,
   "metadata": {},
   "outputs": [
    {
     "data": {
      "text/plain": [
       "(False, '0123456789')"
      ]
     },
     "execution_count": 93,
     "metadata": {},
     "output_type": "execute_result"
    }
   ],
   "source": [
    "a = \"hải trên mạng xã hội 🤎. 𝗖𝗼𝗻𝘁𝗮𝗰𝘁 ☞ Call | Zalo : 0123456789\"\n",
    "b = find_phone_number(a)\n",
    "not b, b"
   ]
  }
 ],
 "metadata": {
  "kernelspec": {
   "display_name": "Python 3",
   "language": "python",
   "name": "python3"
  },
  "language_info": {
   "codemirror_mode": {
    "name": "ipython",
    "version": 3
   },
   "file_extension": ".py",
   "mimetype": "text/x-python",
   "name": "python",
   "nbconvert_exporter": "python",
   "pygments_lexer": "ipython3",
   "version": "3.12.2"
  }
 },
 "nbformat": 4,
 "nbformat_minor": 2
}
