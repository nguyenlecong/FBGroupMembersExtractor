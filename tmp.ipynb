{
 "cells": [
  {
   "cell_type": "code",
   "execution_count": 14,
   "metadata": {},
   "outputs": [],
   "source": [
    "import pandas as pd\n",
    "\n",
    "from src.utils import read_csv\n",
    "from src.extractor import Extractor\n",
    "\n",
    "from selenium import webdriver\n",
    "from selenium.webdriver.common.keys import Keys\n",
    "\n",
    "from src.utils import *"
   ]
  },
  {
   "cell_type": "code",
   "execution_count": 15,
   "metadata": {},
   "outputs": [],
   "source": [
    "config = load_config('config/account_config.yaml')\n",
    "account_id = 1\n",
    "facebook_account = config[account_id]"
   ]
  },
  {
   "cell_type": "code",
   "execution_count": 16,
   "metadata": {},
   "outputs": [],
   "source": [
    "def login_facebook(facebook_account):\n",
    "    chrome_options = webdriver.ChromeOptions()\n",
    "    prefs = {\"profile.default_content_setting_values.notifications\": 2}\n",
    "    chrome_options.add_experimental_option(\"prefs\", prefs)\n",
    "    # chrome_options.add_argument('--headless')  # Run in background\n",
    "    browser = webdriver.Chrome(\n",
    "        executable_path='./asset/chromedriver.exe', chrome_options=chrome_options)\n",
    "\n",
    "    browser.get('https://www.facebook.com/')\n",
    "    sleeping()\n",
    "\n",
    "    txtUser = browser.find_element_by_id('email')\n",
    "    txtUser.send_keys(facebook_account['username'])\n",
    "    sleeping()\n",
    "\n",
    "    txtPwd = browser.find_element_by_id('pass')\n",
    "    txtPwd.send_keys(facebook_account['password'])\n",
    "    sleeping()\n",
    "\n",
    "    txtPwd.send_keys(Keys.ENTER)\n",
    "    sleeping()\n",
    "\n",
    "    return browser"
   ]
  },
  {
   "cell_type": "code",
   "execution_count": 17,
   "metadata": {},
   "outputs": [
    {
     "name": "stderr",
     "output_type": "stream",
     "text": [
      "C:\\Users\\nguyen\\AppData\\Local\\Temp\\ipykernel_33864\\2309377508.py:6: DeprecationWarning: use options instead of chrome_options\n",
      "  browser = webdriver.Chrome(\n"
     ]
    }
   ],
   "source": [
    "browser = login_facebook(facebook_account)"
   ]
  },
  {
   "cell_type": "code",
   "execution_count": 20,
   "metadata": {},
   "outputs": [],
   "source": [
    "profile_link = 'https://www.facebook.com/dinhkhuongg'\n",
    "browser.get(profile_link)"
   ]
  },
  {
   "cell_type": "code",
   "execution_count": 21,
   "metadata": {},
   "outputs": [
    {
     "data": {
      "text/plain": [
       "''"
      ]
     },
     "execution_count": 21,
     "metadata": {},
     "output_type": "execute_result"
    }
   ],
   "source": [
    "intro = browser.find_element_by_css_selector('div.xieb3on > div:nth-child(1) > div > div')\n",
    "intro.text "
   ]
  },
  {
   "cell_type": "code",
   "execution_count": 2,
   "metadata": {},
   "outputs": [
    {
     "name": "stdout",
     "output_type": "stream",
     "text": [
      "['0397892603', '0969979377', '0912997736', '0588563472']\n"
     ]
    }
   ],
   "source": [
    "import re\n",
    "\n",
    "# Sample list of strings containing phone numbers\n",
    "strings = [\n",
    "    \"Tâm phải lớn để dung nạp người thiên hạ, Tâm phải trầm tĩnh để xét lý trong thiên hạ\",\n",
    "    \"Nếu muốn người ta sẽ tìm cách. Nếu không muốn người ta sẽ tìm lí do.\",\n",
    "    \"📞 039 789 2603\",\n",
    "    \"Đường không đi lâu ngày mọc cỏ dại. Người lâu ngày không gặp hóa người dưng.\",\n",
    "    \"Vạn sự tùy duyên. Duyên đến nên quý, duyên hết nên buông.\",\n",
    "    \"NGƯỜI VIỆT NAM\",\n",
    "    \"xem thêm\",\n",
    "    \"✔️Support Meta\",\n",
    "    \"📞LH Công việc: 0969.979.377\",\n",
    "    \"🎥CAMERAMAN YOUTUBE: Hương Cù Lao\"\",\n",
    "    \"FB CHÍNH CHỐT ĐƠN - KHO MỞ CỬA⏰ : 7H -5H30 ( khách sỉ lẻ lưu ý giùm em nha). ☎️ 0355070791\",\n",
    "    \"The Universe Sparkles ✨✨✨\",\n",
    "    \"🎯TikTok/Facebook/Google Agency Ads Account\",\n",
    "    \"🎯WhatsApp: +84912997736\",\n",
    "    \"🎯Email: haht@megadigital.ai\",\n",
    "    \"⭕️ ADS FACEBOOK-TIKTOK-INSTAGRAM⭕️ Contact: 0588.563.472\",\n",
    "    \"Trao đổi Đồ nghề, Dao bếp, Bonsai, Dụng cụ Nhật Bãi. Chợ Nhật Bãi 0969.454.789\",\n",
    "    \"Chuyên quần áo học sinh 🛍️🛍️🛍️ tầng 2 chợ tttm yên lạc\",\n",
    "    \"SĐT- ZALO: 0865354626😍\",\n",
    "    \"Marketing Manager Real Estate For work: 03363 69 603\",\n",
    "    \"hải trên mạng xã hội 🤎. 𝗖𝗼𝗻𝘁𝗮𝗰𝘁 ☞ Call | Zalo : 09898.04998; 093.173.0123\",\n",
    "    \"DỊCH VỤ MARKETING - CHẠY QUẢNG CÁO CÂN VPCS Ỗ TRỢ TÀI KHOẢN QUẢNG CÁO MB Bank 0353753863\",\n",
    "    \"Có 2 bí quyết thành công: một là kiên trì đến cùng,hai là không bao giờ bỏ cuộc.\",\n",
    "    \"Cháo Dinh Dưỡng VyVy\",\n",
    "    \"Hotline : 0793.11.3456\",\n",
    "    \"THU MUA TKQC NỢ NGƯỠNG FULL VIA\",\n",
    "    \"THU TK NGUYÊN NGƯỠNG FULL VIA CÂN BILL CŨ CALLL/ZALO: 0977344321\",\n",
    "]\n",
    "\n",
    "# Function to extract phone numbers\n",
    "def extract_phone_numbers(strings):\n",
    "    phone_numbers = []\n",
    "    for string in strings:\n",
    "        # Use regex to find all digits and ignore non-digit characters\n",
    "        match = re.findall(r'\\d+', string)\n",
    "        if match:\n",
    "            # Join the matched digits and add to the list\n",
    "            phone_number = ''.join(match)\n",
    "            # Remove the country code (+84) if present, assuming local format without it\n",
    "            if phone_number.startswith('84'):\n",
    "                phone_number = '0' + phone_number[2:]\n",
    "            phone_numbers.append(phone_number)\n",
    "    return phone_numbers\n",
    "\n",
    "# Extracted phone numbers\n",
    "cleaned_numbers = extract_phone_numbers(strings)\n",
    "print(cleaned_numbers)\n"
   ]
  }
 ],
 "metadata": {
  "kernelspec": {
   "display_name": "Python 3",
   "language": "python",
   "name": "python3"
  },
  "language_info": {
   "codemirror_mode": {
    "name": "ipython",
    "version": 3
   },
   "file_extension": ".py",
   "mimetype": "text/x-python",
   "name": "python",
   "nbconvert_exporter": "python",
   "pygments_lexer": "ipython3",
   "version": "3.12.2"
  }
 },
 "nbformat": 4,
 "nbformat_minor": 2
}
