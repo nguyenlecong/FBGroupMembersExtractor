{
 "cells": [
  {
   "cell_type": "code",
   "execution_count": 1,
   "metadata": {},
   "outputs": [],
   "source": [
    "import pandas as pd\n",
    "\n",
    "from src.utils import read_csv\n",
    "from src.extractor import Extractor\n",
    "\n",
    "from selenium import webdriver\n",
    "from selenium.webdriver.common.keys import Keys\n",
    "\n",
    "from src.utils import *"
   ]
  },
  {
   "cell_type": "code",
   "execution_count": 8,
   "metadata": {},
   "outputs": [],
   "source": [
    "config = load_config('config/account_config.yaml')\n",
    "account_id = 1\n",
    "facebook_account = config[account_id]"
   ]
  },
  {
   "cell_type": "code",
   "execution_count": 9,
   "metadata": {},
   "outputs": [],
   "source": [
    "def login_facebook(facebook_account):\n",
    "    chrome_options = webdriver.ChromeOptions()\n",
    "    prefs = {\"profile.default_content_setting_values.notifications\": 2}\n",
    "    chrome_options.add_experimental_option(\"prefs\", prefs)\n",
    "    # chrome_options.add_argument('--headless')  # Run in background\n",
    "    browser = webdriver.Chrome(\n",
    "        executable_path='./asset/chromedriver.exe', chrome_options=chrome_options)\n",
    "\n",
    "    browser.get('https://www.facebook.com/')\n",
    "    sleeping()\n",
    "\n",
    "    txtUser = browser.find_element_by_id('email')\n",
    "    txtUser.send_keys(facebook_account['username'])\n",
    "    sleeping()\n",
    "\n",
    "    txtPwd = browser.find_element_by_id('pass')\n",
    "    txtPwd.send_keys(facebook_account['password'])\n",
    "    sleeping()\n",
    "\n",
    "    txtPwd.send_keys(Keys.ENTER)\n",
    "    sleeping()\n",
    "\n",
    "    return browser"
   ]
  },
  {
   "cell_type": "code",
   "execution_count": 10,
   "metadata": {},
   "outputs": [
    {
     "name": "stderr",
     "output_type": "stream",
     "text": [
      "C:\\Users\\nguyen\\AppData\\Local\\Temp\\ipykernel_12396\\2309377508.py:6: DeprecationWarning: use options instead of chrome_options\n",
      "  browser = webdriver.Chrome(\n"
     ]
    }
   ],
   "source": [
    "browser = login_facebook(facebook_account)"
   ]
  },
  {
   "cell_type": "code",
   "execution_count": 80,
   "metadata": {},
   "outputs": [],
   "source": [
    "# profile_link = 'https://www.facebook.com/tuanthanhh.03'  # bio and intro\n",
    "# profile_link = 'https://www.facebook.com/profile.php?id=100069873797739'  # intro, without bio\n",
    "profile_link = 'https://www.facebook.com/profile.php?id=100094533787049'  # bio, without intro\n",
    "# profile_link = 'https://www.facebook.com/profile.php?id=61564734076212'  # without bio and intro\n",
    "\n",
    "browser.get(profile_link)"
   ]
  },
  {
   "cell_type": "code",
   "execution_count": 69,
   "metadata": {},
   "outputs": [
    {
     "data": {
      "text/plain": [
       "'Contact for work: bienhuyen262@gmail.com'"
      ]
     },
     "execution_count": 69,
     "metadata": {},
     "output_type": "execute_result"
    }
   ],
   "source": [
    "bio = browser.find_element_by_css_selector('div.xieb3on > div:nth-child(1) > div > div')\n",
    "bio.text "
   ]
  },
  {
   "cell_type": "code",
   "execution_count": 70,
   "metadata": {},
   "outputs": [
    {
     "ename": "NoSuchElementException",
     "evalue": "Message: no such element: Unable to locate element: {\"method\":\"css selector\",\"selector\":\"div.xieb3on > div > div > ul\"}\n  (Session info: chrome=128.0.6613.139)\n",
     "output_type": "error",
     "traceback": [
      "\u001b[1;31m---------------------------------------------------------------------------\u001b[0m",
      "\u001b[1;31mNoSuchElementException\u001b[0m                    Traceback (most recent call last)",
      "Cell \u001b[1;32mIn[70], line 1\u001b[0m\n\u001b[1;32m----> 1\u001b[0m intro \u001b[38;5;241m=\u001b[39m \u001b[43mbrowser\u001b[49m\u001b[38;5;241;43m.\u001b[39;49m\u001b[43mfind_element_by_css_selector\u001b[49m\u001b[43m(\u001b[49m\u001b[38;5;124;43m'\u001b[39;49m\u001b[38;5;124;43mdiv.xieb3on > div > div > ul\u001b[39;49m\u001b[38;5;124;43m'\u001b[39;49m\u001b[43m)\u001b[49m\n\u001b[0;32m      2\u001b[0m intro\u001b[38;5;241m.\u001b[39mtext \n",
      "File \u001b[1;32mc:\\Python312\\Lib\\site-packages\\selenium\\webdriver\\remote\\webdriver.py:598\u001b[0m, in \u001b[0;36mWebDriver.find_element_by_css_selector\u001b[1;34m(self, css_selector)\u001b[0m\n\u001b[0;32m    582\u001b[0m \u001b[38;5;28;01mdef\u001b[39;00m \u001b[38;5;21mfind_element_by_css_selector\u001b[39m(\u001b[38;5;28mself\u001b[39m, css_selector):\n\u001b[0;32m    583\u001b[0m \u001b[38;5;250m    \u001b[39m\u001b[38;5;124;03m\"\"\"\u001b[39;00m\n\u001b[0;32m    584\u001b[0m \u001b[38;5;124;03m    Finds an element by css selector.\u001b[39;00m\n\u001b[0;32m    585\u001b[0m \n\u001b[1;32m   (...)\u001b[0m\n\u001b[0;32m    596\u001b[0m \u001b[38;5;124;03m        element = driver.find_element_by_css_selector('#foo')\u001b[39;00m\n\u001b[0;32m    597\u001b[0m \u001b[38;5;124;03m    \"\"\"\u001b[39;00m\n\u001b[1;32m--> 598\u001b[0m     \u001b[38;5;28;01mreturn\u001b[39;00m \u001b[38;5;28;43mself\u001b[39;49m\u001b[38;5;241;43m.\u001b[39;49m\u001b[43mfind_element\u001b[49m\u001b[43m(\u001b[49m\u001b[43mby\u001b[49m\u001b[38;5;241;43m=\u001b[39;49m\u001b[43mBy\u001b[49m\u001b[38;5;241;43m.\u001b[39;49m\u001b[43mCSS_SELECTOR\u001b[49m\u001b[43m,\u001b[49m\u001b[43m \u001b[49m\u001b[43mvalue\u001b[49m\u001b[38;5;241;43m=\u001b[39;49m\u001b[43mcss_selector\u001b[49m\u001b[43m)\u001b[49m\n",
      "File \u001b[1;32mc:\\Python312\\Lib\\site-packages\\selenium\\webdriver\\remote\\webdriver.py:976\u001b[0m, in \u001b[0;36mWebDriver.find_element\u001b[1;34m(self, by, value)\u001b[0m\n\u001b[0;32m    974\u001b[0m         by \u001b[38;5;241m=\u001b[39m By\u001b[38;5;241m.\u001b[39mCSS_SELECTOR\n\u001b[0;32m    975\u001b[0m         value \u001b[38;5;241m=\u001b[39m \u001b[38;5;124m'\u001b[39m\u001b[38;5;124m[name=\u001b[39m\u001b[38;5;124m\"\u001b[39m\u001b[38;5;132;01m%s\u001b[39;00m\u001b[38;5;124m\"\u001b[39m\u001b[38;5;124m]\u001b[39m\u001b[38;5;124m'\u001b[39m \u001b[38;5;241m%\u001b[39m value\n\u001b[1;32m--> 976\u001b[0m \u001b[38;5;28;01mreturn\u001b[39;00m \u001b[38;5;28;43mself\u001b[39;49m\u001b[38;5;241;43m.\u001b[39;49m\u001b[43mexecute\u001b[49m\u001b[43m(\u001b[49m\u001b[43mCommand\u001b[49m\u001b[38;5;241;43m.\u001b[39;49m\u001b[43mFIND_ELEMENT\u001b[49m\u001b[43m,\u001b[49m\u001b[43m \u001b[49m\u001b[43m{\u001b[49m\n\u001b[0;32m    977\u001b[0m \u001b[43m    \u001b[49m\u001b[38;5;124;43m'\u001b[39;49m\u001b[38;5;124;43musing\u001b[39;49m\u001b[38;5;124;43m'\u001b[39;49m\u001b[43m:\u001b[49m\u001b[43m \u001b[49m\u001b[43mby\u001b[49m\u001b[43m,\u001b[49m\n\u001b[0;32m    978\u001b[0m \u001b[43m    \u001b[49m\u001b[38;5;124;43m'\u001b[39;49m\u001b[38;5;124;43mvalue\u001b[39;49m\u001b[38;5;124;43m'\u001b[39;49m\u001b[43m:\u001b[49m\u001b[43m \u001b[49m\u001b[43mvalue\u001b[49m\u001b[43m}\u001b[49m\u001b[43m)\u001b[49m[\u001b[38;5;124m'\u001b[39m\u001b[38;5;124mvalue\u001b[39m\u001b[38;5;124m'\u001b[39m]\n",
      "File \u001b[1;32mc:\\Python312\\Lib\\site-packages\\selenium\\webdriver\\remote\\webdriver.py:321\u001b[0m, in \u001b[0;36mWebDriver.execute\u001b[1;34m(self, driver_command, params)\u001b[0m\n\u001b[0;32m    319\u001b[0m response \u001b[38;5;241m=\u001b[39m \u001b[38;5;28mself\u001b[39m\u001b[38;5;241m.\u001b[39mcommand_executor\u001b[38;5;241m.\u001b[39mexecute(driver_command, params)\n\u001b[0;32m    320\u001b[0m \u001b[38;5;28;01mif\u001b[39;00m response:\n\u001b[1;32m--> 321\u001b[0m     \u001b[38;5;28;43mself\u001b[39;49m\u001b[38;5;241;43m.\u001b[39;49m\u001b[43merror_handler\u001b[49m\u001b[38;5;241;43m.\u001b[39;49m\u001b[43mcheck_response\u001b[49m\u001b[43m(\u001b[49m\u001b[43mresponse\u001b[49m\u001b[43m)\u001b[49m\n\u001b[0;32m    322\u001b[0m     response[\u001b[38;5;124m'\u001b[39m\u001b[38;5;124mvalue\u001b[39m\u001b[38;5;124m'\u001b[39m] \u001b[38;5;241m=\u001b[39m \u001b[38;5;28mself\u001b[39m\u001b[38;5;241m.\u001b[39m_unwrap_value(\n\u001b[0;32m    323\u001b[0m         response\u001b[38;5;241m.\u001b[39mget(\u001b[38;5;124m'\u001b[39m\u001b[38;5;124mvalue\u001b[39m\u001b[38;5;124m'\u001b[39m, \u001b[38;5;28;01mNone\u001b[39;00m))\n\u001b[0;32m    324\u001b[0m     \u001b[38;5;28;01mreturn\u001b[39;00m response\n",
      "File \u001b[1;32mc:\\Python312\\Lib\\site-packages\\selenium\\webdriver\\remote\\errorhandler.py:242\u001b[0m, in \u001b[0;36mErrorHandler.check_response\u001b[1;34m(self, response)\u001b[0m\n\u001b[0;32m    240\u001b[0m         alert_text \u001b[38;5;241m=\u001b[39m value[\u001b[38;5;124m'\u001b[39m\u001b[38;5;124malert\u001b[39m\u001b[38;5;124m'\u001b[39m]\u001b[38;5;241m.\u001b[39mget(\u001b[38;5;124m'\u001b[39m\u001b[38;5;124mtext\u001b[39m\u001b[38;5;124m'\u001b[39m)\n\u001b[0;32m    241\u001b[0m     \u001b[38;5;28;01mraise\u001b[39;00m exception_class(message, screen, stacktrace, alert_text)\n\u001b[1;32m--> 242\u001b[0m \u001b[38;5;28;01mraise\u001b[39;00m exception_class(message, screen, stacktrace)\n",
      "\u001b[1;31mNoSuchElementException\u001b[0m: Message: no such element: Unable to locate element: {\"method\":\"css selector\",\"selector\":\"div.xieb3on > div > div > ul\"}\n  (Session info: chrome=128.0.6613.139)\n"
     ]
    }
   ],
   "source": [
    "intro = browser.find_element_by_css_selector('div.xieb3on > div > div > ul')\n",
    "intro.text "
   ]
  },
  {
   "cell_type": "code",
   "execution_count": 81,
   "metadata": {},
   "outputs": [
    {
     "data": {
      "text/plain": [
       "('Contact for work: bienhuyen262@gmail.com', None)"
      ]
     },
     "execution_count": 81,
     "metadata": {},
     "output_type": "execute_result"
    }
   ],
   "source": [
    "try:\n",
    "    try:\n",
    "        bio = browser.find_element_by_css_selector('div.xieb3on > div:nth-child(1) > div > div')\n",
    "        bio = bio.text\n",
    "    except:\n",
    "        bio = None\n",
    "\n",
    "    try:\n",
    "        intro = browser.find_element_by_css_selector('div.xieb3on > div > div > ul')\n",
    "        intro = intro.text\n",
    "        area  = intro\n",
    "    except:\n",
    "        area = None\n",
    "except:\n",
    "    bio = None\n",
    "    area = None\n",
    "\n",
    "bio, area"
   ]
  },
  {
   "cell_type": "code",
   "execution_count": 2,
   "metadata": {},
   "outputs": [],
   "source": [
    "text = [\n",
    "\"📞 039 789 2603\\n\",\n",
    "\"📞LH Công việc: 0969.979.377abc\",\n",
    "\"FB CHÍNH CHỐT ĐƠN - KHO MỞ CỬA⏰ : 7H -5H30 ( khách sỉ lẻ lưu ý giùm em nha). ☎️ 0355070791\",\n",
    "\"🎯WhatsApp: +84912997736\",\n",
    "\"Contact: 0588.563.472\",\n",
    "\"Trao đổi Đồ nghề, Dao bếp, Bonsai, Dụng cụ Nhật Bãi. Chợ Nhật Bãi 0969.454.789\",\n",
    "\"SĐT- ZALO: 0865354626😍\",\n",
    "\"For work: 03363 69 603\",\n",
    "\"hải trên mạng xã hội 🤎. 𝗖𝗼𝗻𝘁𝗮𝗰𝘁 ☞ Call | Zalo : 09898.04998; 093.173.0123\",\n",
    "\"MB Bank 0353753863\",\n",
    "\"Hotline : 0793.11.3456\",\n",
    "\"CALLL/ZALO: 0977344321\",\n",
    "\"MB BANK: 8619991992\",\n",
    "\"ZALO: 0989271832\",\n",
    "\"Tổng sỉ dược mỹ phẩm. Làm việc uy tín. Hỗ trợ tối đa☎️Zalo:0382.280.188🍀🍀🍀\",\n",
    "\"0764.993.555\",\n",
    "\"☎️ 0964 4111 03 - 0964 5111 03\",\n",
    "\"Chuyên dòng trà, detox, cà phê chuẩn ISO, FDA, giấy tờ đầy đủ. Cung cấp sll chạy ADS. 098 6980543\",\n",
    "]"
   ]
  },
  {
   "cell_type": "code",
   "execution_count": 3,
   "metadata": {},
   "outputs": [],
   "source": [
    "gt = [\n",
    "    \"0397892603\",\n",
    "    \"0969979377\",\n",
    "    \"0355070791\",\n",
    "    \"0912997736\",\n",
    "    \"0588563472\",\n",
    "    \"0969454789\",\n",
    "    \"0865354626\",\n",
    "    \"0336369603\",\n",
    "    \"0989804998, 0931730123\",\n",
    "    \"0353753863\",\n",
    "    \"0793113456\",\n",
    "    \"0977344321\",\n",
    "    \"0989271832\",\n",
    "    \"0382280188\",\n",
    "    \"0764993555\",\n",
    "    \"0964411103, 0964511103\",\n",
    "    \"0986980543\",\n",
    "]"
   ]
  },
  {
   "cell_type": "code",
   "execution_count": 4,
   "metadata": {},
   "outputs": [],
   "source": [
    "import re"
   ]
  },
  {
   "cell_type": "code",
   "execution_count": 5,
   "metadata": {},
   "outputs": [
    {
     "name": "stdout",
     "output_type": "stream",
     "text": [
      "['0397892603', '0969979377', '0355070791', '0912997736', '0588563472', '0969454789', '0865354626', '0336369603', '0989804998', '0931730123', '0353753863', '0793113456', '0977344321', '0989271832', '0382280188', '0764993555', '0964411103', '0964511103', '0986980543']\n"
     ]
    }
   ],
   "source": [
    "# Regex pattern to match phone numbers\n",
    "pattern = re.compile(r'(?:\\+?84|0)(?:\\d[\\.\\s]*){9,10}')\n",
    "\n",
    "# Function to clean and normalize phone numbers\n",
    "def extract_phone_numbers(text):\n",
    "    phone_numbers = []\n",
    "    for line in text:\n",
    "        matches = pattern.findall(line)\n",
    "        for match in matches:\n",
    "            # Remove all non-digit characters and convert international format to local\n",
    "            cleaned_number = re.sub(r'\\D', '', match)  # Remove non-digits\n",
    "            if cleaned_number.startswith(\"84\"):\n",
    "                cleaned_number = \"0\" + cleaned_number[2:]  # Convert +84 or 84 to 0\n",
    "            phone_numbers.append(cleaned_number)\n",
    "    return phone_numbers\n",
    "\n",
    "# Extract and normalize phone numbers\n",
    "phone_numbers = extract_phone_numbers(text)\n",
    "\n",
    "print(phone_numbers)"
   ]
  },
  {
   "cell_type": "code",
   "execution_count": 7,
   "metadata": {},
   "outputs": [
    {
     "data": {
      "text/plain": [
       "(17, 19)"
      ]
     },
     "execution_count": 7,
     "metadata": {},
     "output_type": "execute_result"
    }
   ],
   "source": [
    "len(gt), len(phone_numbers)"
   ]
  },
  {
   "cell_type": "code",
   "execution_count": 6,
   "metadata": {},
   "outputs": [],
   "source": [
    "pattern = re.compile(r'(?:\\+?84|0)(?:\\d[\\.\\s]*){9,10}')\n",
    "def find_phone_number(text):\n",
    "        phone_numbers = []\n",
    "        matches = pattern.findall(text)\n",
    "        for match in matches:\n",
    "            cleaned_number = re.sub(r'\\D', '', match)\n",
    "            if cleaned_number.startswith(\"84\"):\n",
    "                cleaned_number = \"0\" + cleaned_number[2:]\n",
    "            phone_numbers.append(cleaned_number)\n",
    "        return '\\n'.join(phone_numbers)"
   ]
  },
  {
   "cell_type": "code",
   "execution_count": 7,
   "metadata": {},
   "outputs": [
    {
     "data": {
      "text/plain": [
       "(False, '0123456789')"
      ]
     },
     "execution_count": 7,
     "metadata": {},
     "output_type": "execute_result"
    }
   ],
   "source": [
    "a = \"hải trên mạng xã hội 🤎. 𝗖𝗼𝗻𝘁𝗮𝗰𝘁 ☞ Call | Zalo : 0123456789\"\n",
    "b = find_phone_number(a)\n",
    "not b, b"
   ]
  },
  {
   "cell_type": "code",
   "execution_count": 8,
   "metadata": {},
   "outputs": [
    {
     "name": "stdout",
     "output_type": "stream",
     "text": [
      "<class 'str'>\n"
     ]
    },
    {
     "ename": "TypeError",
     "evalue": "string indices must be integers, not 'str'",
     "output_type": "error",
     "traceback": [
      "\u001b[1;31m---------------------------------------------------------------------------\u001b[0m",
      "\u001b[1;31mTypeError\u001b[0m                                 Traceback (most recent call last)",
      "Cell \u001b[1;32mIn[8], line 6\u001b[0m\n\u001b[0;32m      4\u001b[0m \u001b[38;5;28mprint\u001b[39m(\u001b[38;5;28mtype\u001b[39m(area_config))\n\u001b[0;32m      5\u001b[0m \u001b[38;5;28;01mfor\u001b[39;00m area \u001b[38;5;129;01min\u001b[39;00m area_config:\n\u001b[1;32m----> 6\u001b[0m     \u001b[38;5;28mprint\u001b[39m(area, \u001b[38;5;124m'\u001b[39m\u001b[38;5;124m:\u001b[39m\u001b[38;5;124m'\u001b[39m, \u001b[43marea_config\u001b[49m\u001b[43m[\u001b[49m\u001b[43marea\u001b[49m\u001b[43m]\u001b[49m)\n",
      "\u001b[1;31mTypeError\u001b[0m: string indices must be integers, not 'str'"
     ]
    }
   ],
   "source": [
    "from src.utils import load_config\n",
    "\n",
    "area_config = load_config('config/area_config.yaml')\n",
    "print(type(area_config))\n",
    "for area in area_config:\n",
    "    print(area, ':', area_config[area])"
   ]
  },
  {
   "cell_type": "code",
   "execution_count": 10,
   "metadata": {},
   "outputs": [
    {
     "name": "stdout",
     "output_type": "stream",
     "text": [
      "Buôn Ma Thuột\n",
      "Hà Tĩnh\n",
      "Lâm Thao\n",
      "Đà Nẵng\n"
     ]
    }
   ],
   "source": [
    "import re\n",
    "\n",
    "texts = [\n",
    "    \"Trang cá nhân · Người sáng tạo nội dung số\\nSống tại Buôn Ma Thuột\\nĐến từ Hà Tĩnh\\nĐã kết hôn\",\n",
    "    \"giám đốc tại VH STORE\\nĐến từ Lâm Thao\\nĐộc thân\\nCó 2.354 người theo dõi\\nVhstore97\\nbocuabetao\\nSTK : 24.1997.99999 - ngân hàng MB - chủ tk : Tạ Minh Vượng\",\n",
    "    \"Quản lý tại Beatvn\\nLàm việc tại Tăng người theo dõi FB, Fanpage,instargram,Tiktok\\nLàm việc tại Mua bán Fanpage tương tác tốt , SETUP Fanpage cho khách hàng\\nLàm việc tại Lê Nhật Tân - Cung Cấp Fanpage - Liên Hệ Zalo 085 888 1722\\nQuản lý tại Beatvn\\nQuản lý tại Theanh28 Entertainment\\nĐến từ Đà Nẵng\\nCó 17.612 người theo dõi\\nChuyên Cung Cấp Nick tik tok + nick instagram theo dõi cao\\nChạy Quảng Cáo Facebook hiệu quả tăng đơn, doanh thu uy tín\\nZALO : 085.888.1722 để được tư vấn nhanh nhất ạ\"\n",
    "]\n",
    "\n",
    "def extract_location(text):\n",
    "    pattern = re.compile(r\"(?:Đến từ|Sống tại)\\s([^\\n]+)\")\n",
    "    matches = pattern.findall(text)\n",
    "    return '\\n'.join(matches)\n",
    "\n",
    "# Extract locations from each text\n",
    "for text in texts:\n",
    "    locations = extract_location(text)\n",
    "    print(locations)\n"
   ]
  },
  {
   "cell_type": "code",
   "execution_count": 3,
   "metadata": {},
   "outputs": [
    {
     "name": "stdout",
     "output_type": "stream",
     "text": [
      "Phone: 0935558205 Email: hongbiz.tf1@gmail.com Creative - Performance - Booking Tiktok-Zalo-FB-GG\n"
     ]
    }
   ],
   "source": [
    "from openpyxl.utils import escape\n",
    "import re\n",
    "\n",
    "# Function to remove illegal characters from a string\n",
    "def clean_illegal_chars(value):\n",
    "    if isinstance(value, str):\n",
    "        # Remove characters outside the allowed Unicode range\n",
    "        return re.sub(r'[\\x00-\\x1F\\x7F]', '', value)\n",
    "    return value\n",
    "\n",
    "# Example of usage:\n",
    "data = \"Phone: 0935558205 Email: hongbiz.tf1@gmail.com \bCreative - Performance - Booking Tiktok-Zalo-FB-GG\"\n",
    "\n",
    "# Clean the data before writing\n",
    "clean_data = clean_illegal_chars(data)\n",
    "print(clean_data)\n"
   ]
  }
 ],
 "metadata": {
  "kernelspec": {
   "display_name": "Python 3",
   "language": "python",
   "name": "python3"
  },
  "language_info": {
   "codemirror_mode": {
    "name": "ipython",
    "version": 3
   },
   "file_extension": ".py",
   "mimetype": "text/x-python",
   "name": "python",
   "nbconvert_exporter": "python",
   "pygments_lexer": "ipython3",
   "version": "3.12.7"
  }
 },
 "nbformat": 4,
 "nbformat_minor": 2
}
